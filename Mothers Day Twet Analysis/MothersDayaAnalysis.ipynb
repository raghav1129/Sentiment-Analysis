{
 "cells": [
  {
   "cell_type": "code",
   "execution_count": 11,
   "metadata": {},
   "outputs": [],
   "source": [
    "import pandas as pd\n",
    "import numpy as np \n",
    "import matplotlib.pyplot as plt \n",
    "import nltk\n",
    "from nltk.corpus import stopwords\n",
    "import seaborn as sns \n",
    "import string\n",
    "from sklearn.model_selection import train_test_split\n",
    "import re\n",
    "from sklearn.metrics import classification_report, confusion_matrix, accuracy_score\n",
    "from sklearn.naive_bayes import MultinomialNB\n",
    "from nltk.stem import WordNetLemmatizer #word stemmer class\n",
    "from nltk.stem import PorterStemmer\n",
    "stemmer = PorterStemmer()\n",
    "lemma = WordNetLemmatizer()\n",
    "from sklearn.feature_extraction.text import TfidfVectorizer\n",
    "%matplotlib inline"
   ]
  },
  {
   "cell_type": "code",
   "execution_count": 12,
   "metadata": {},
   "outputs": [],
   "source": [
    "train = pd.read_csv(\"train.csv\")\n",
    "test = pd.read_csv(\"test.csv\")"
   ]
  },
  {
   "cell_type": "code",
   "execution_count": 13,
   "metadata": {},
   "outputs": [
    {
     "name": "stdout",
     "output_type": "stream",
     "text": [
      "(3235, 6)\n",
      "(1387, 5)\n"
     ]
    }
   ],
   "source": [
    "print(train.shape)\n",
    "print(test.shape)"
   ]
  },
  {
   "cell_type": "code",
   "execution_count": 14,
   "metadata": {},
   "outputs": [
    {
     "data": {
      "text/html": [
       "<div>\n",
       "<style scoped>\n",
       "    .dataframe tbody tr th:only-of-type {\n",
       "        vertical-align: middle;\n",
       "    }\n",
       "\n",
       "    .dataframe tbody tr th {\n",
       "        vertical-align: top;\n",
       "    }\n",
       "\n",
       "    .dataframe thead th {\n",
       "        text-align: right;\n",
       "    }\n",
       "</style>\n",
       "<table border=\"1\" class=\"dataframe\">\n",
       "  <thead>\n",
       "    <tr style=\"text-align: right;\">\n",
       "      <th></th>\n",
       "      <th>id</th>\n",
       "      <th>original_text</th>\n",
       "      <th>lang</th>\n",
       "      <th>retweet_count</th>\n",
       "      <th>original_author</th>\n",
       "      <th>sentiment_class</th>\n",
       "    </tr>\n",
       "  </thead>\n",
       "  <tbody>\n",
       "    <tr>\n",
       "      <th>0</th>\n",
       "      <td>1.245025e+18</td>\n",
       "      <td>Happy #MothersDay to all you amazing mothers o...</td>\n",
       "      <td>en</td>\n",
       "      <td>0</td>\n",
       "      <td>BeenXXPired</td>\n",
       "      <td>0</td>\n",
       "    </tr>\n",
       "    <tr>\n",
       "      <th>1</th>\n",
       "      <td>1.245759e+18</td>\n",
       "      <td>Happy Mothers Day Mum - I'm sorry I can't be t...</td>\n",
       "      <td>en</td>\n",
       "      <td>1</td>\n",
       "      <td>FestiveFeeling</td>\n",
       "      <td>0</td>\n",
       "    </tr>\n",
       "    <tr>\n",
       "      <th>2</th>\n",
       "      <td>1.246087e+18</td>\n",
       "      <td>Happy mothers day To all This doing a mothers ...</td>\n",
       "      <td>en</td>\n",
       "      <td>0</td>\n",
       "      <td>KrisAllenSak</td>\n",
       "      <td>-1</td>\n",
       "    </tr>\n",
       "    <tr>\n",
       "      <th>3</th>\n",
       "      <td>1.244803e+18</td>\n",
       "      <td>Happy mothers day to this beautiful woman...ro...</td>\n",
       "      <td>en</td>\n",
       "      <td>0</td>\n",
       "      <td>Queenuchee</td>\n",
       "      <td>0</td>\n",
       "    </tr>\n",
       "    <tr>\n",
       "      <th>4</th>\n",
       "      <td>1.244876e+18</td>\n",
       "      <td>Remembering the 3 most amazing ladies who made...</td>\n",
       "      <td>en</td>\n",
       "      <td>0</td>\n",
       "      <td>brittan17446794</td>\n",
       "      <td>-1</td>\n",
       "    </tr>\n",
       "  </tbody>\n",
       "</table>\n",
       "</div>"
      ],
      "text/plain": [
       "             id                                      original_text lang  \\\n",
       "0  1.245025e+18  Happy #MothersDay to all you amazing mothers o...   en   \n",
       "1  1.245759e+18  Happy Mothers Day Mum - I'm sorry I can't be t...   en   \n",
       "2  1.246087e+18  Happy mothers day To all This doing a mothers ...   en   \n",
       "3  1.244803e+18  Happy mothers day to this beautiful woman...ro...   en   \n",
       "4  1.244876e+18  Remembering the 3 most amazing ladies who made...   en   \n",
       "\n",
       "  retweet_count  original_author  sentiment_class  \n",
       "0             0      BeenXXPired                0  \n",
       "1             1   FestiveFeeling                0  \n",
       "2             0     KrisAllenSak               -1  \n",
       "3             0       Queenuchee                0  \n",
       "4             0  brittan17446794               -1  "
      ]
     },
     "execution_count": 14,
     "metadata": {},
     "output_type": "execute_result"
    }
   ],
   "source": [
    "train.head()"
   ]
  },
  {
   "cell_type": "code",
   "execution_count": 15,
   "metadata": {},
   "outputs": [],
   "source": [
    "df_positive = train[train['sentiment_class']==0].reset_index()\n",
    "df_neutral = train[train['sentiment_class']==1].reset_index()\n",
    "df_negative = train[train['sentiment_class']==-1].reset_index()"
   ]
  },
  {
   "cell_type": "code",
   "execution_count": 16,
   "metadata": {},
   "outputs": [
    {
     "data": {
      "text/plain": [
       "\"Happy Mothers Day ! 's To all those special Mum's who may not have seen their loved one's today. We Love you. Stay Safe. pic.twitter.com/OAm32PTpzO\""
      ]
     },
     "execution_count": 16,
     "metadata": {},
     "output_type": "execute_result"
    }
   ],
   "source": [
    "df_negative['original_text'][5]"
   ]
  },
  {
   "cell_type": "code",
   "execution_count": 17,
   "metadata": {},
   "outputs": [],
   "source": [
    "train['word_count']   = train['original_text'].apply(len)"
   ]
  },
  {
   "cell_type": "code",
   "execution_count": 18,
   "metadata": {},
   "outputs": [
    {
     "data": {
      "text/plain": [
       "<matplotlib.axes._subplots.AxesSubplot at 0x1eca4f2db38>"
      ]
     },
     "execution_count": 18,
     "metadata": {},
     "output_type": "execute_result"
    },
    {
     "data": {
      "image/png": "[encoded data removed]",
      "text/plain": [
       "<Figure size 432x288 with 1 Axes>"
      ]
     },
     "metadata": {
      "needs_background": "light"
     },
     "output_type": "display_data"
    }
   ],
   "source": [
    "sns.countplot('sentiment_class',data=train)"
   ]
  },
  {
   "cell_type": "code",
   "execution_count": 19,
   "metadata": {},
   "outputs": [
    {
     "data": {
      "text/plain": [
       "array([[<matplotlib.axes._subplots.AxesSubplot object at 0x000001ECA77EA860>,\n",
       "        <matplotlib.axes._subplots.AxesSubplot object at 0x000001ECA75C6668>],\n",
       "       [<matplotlib.axes._subplots.AxesSubplot object at 0x000001ECA75F4C18>,\n",
       "        <matplotlib.axes._subplots.AxesSubplot object at 0x000001ECA762F208>]],\n",
       "      dtype=object)"
      ]
     },
     "execution_count": 19,
     "metadata": {},
     "output_type": "execute_result"
    },
    {
     "data": {
      "image/png": "[encoded data removed]",
      "text/plain": [
       "<Figure size 720x216 with 4 Axes>"
      ]
     },
     "metadata": {
      "needs_background": "light"
     },
     "output_type": "display_data"
    }
   ],
   "source": [
    "train.hist(column ='word_count',by='sentiment_class',grid=True,bins=60,figsize=(10,3))"
   ]
  },
  {
   "cell_type": "markdown",
   "metadata": {},
   "source": [
    "# Text Processing"
   ]
  },
  {
   "cell_type": "code",
   "execution_count": 20,
   "metadata": {},
   "outputs": [],
   "source": [
    "def lower_case(df):\n",
    "    df['original_text'] = df['original_text'].apply(lambda x: \" \".join(x.lower() for x in x.split()))\n",
    "    \n",
    "lower_case(train)\n",
    "lower_case(test)"
   ]
  },
  {
   "cell_type": "code",
   "execution_count": 21,
   "metadata": {},
   "outputs": [
    {
     "data": {
      "text/plain": [
       "['to',\n",
       " 'happy',\n",
       " 'day',\n",
       " 'the',\n",
       " 'and',\n",
       " 'mothers',\n",
       " 'you',\n",
       " 'all',\n",
       " 'a',\n",
       " '#mothersday',\n",
       " 'my',\n",
       " '…',\n",
       " 'of',\n",
       " 'i',\n",
       " 'for',\n",
       " 'in',\n",
       " 'we',\n",
       " 'https://www.',\n",
       " '.',\n",
       " 'love']"
      ]
     },
     "execution_count": 21,
     "metadata": {},
     "output_type": "execute_result"
    }
   ],
   "source": [
    "freq = pd.Series(' '.join(train['original_text']).split()).value_counts()[:20]\n",
    "freq = list(freq.index)\n",
    "freq\n"
   ]
  },
  {
   "cell_type": "code",
   "execution_count": 22,
   "metadata": {},
   "outputs": [
    {
     "data": {
      "text/plain": [
       "['tus/1241708889608990720',\n",
       " 'asylum',\n",
       " 'flip',\n",
       " 'friendos',\n",
       " 'deciding',\n",
       " 'pic.twitter.com/uikexnlmfw',\n",
       " 'alright)',\n",
       " '#lashlift',\n",
       " '#ivankaye',\n",
       " '#postnatalfitness',\n",
       " 'pic.twitter.com/yihlfeyylu',\n",
       " 'village!',\n",
       " '#teastartsandtails',\n",
       " 'suitably',\n",
       " '@flitwick',\n",
       " 'pic.twitter.com/nrdcanmp7n',\n",
       " 'emotional.',\n",
       " 'pic.twitter.com/kwiwgqnoij',\n",
       " 'pic.twitter.com/8zfy9cgomm',\n",
       " 'reinforced']"
      ]
     },
     "execution_count": 22,
     "metadata": {},
     "output_type": "execute_result"
    }
   ],
   "source": [
    "rare = pd.Series(' '.join(train['original_text']).split()).value_counts()[-20:]\n",
    "rare =  list(rare.index)\n",
    "rare"
   ]
  },
  {
   "cell_type": "code",
   "execution_count": 23,
   "metadata": {},
   "outputs": [],
   "source": [
    "def text_process(word2):\n",
    "    #remove links\n",
    "    #word2 =(re.sub(r'pic\\S+',' ', word2))\n",
    "    #word2 =re.sub(r'http\\S+',' ', word2)\n",
    "    #word2 =(re.sub(r'instagram\\S+',' ', word2))\n",
    "    word2 = word2.split(\"pic\", 1)[0]\n",
    "    word2 = word2.split(\"https\", 1)[0]\n",
    "    word2 = word2.split(\"instagram\", 1)[0]\n",
    "    \n",
    "    #stemming\n",
    "    #word2 = ([stemmer.stem(word) for word in word2.split()])\n",
    "    #word2 = \" \".join(word2)\n",
    "\n",
    "    # lemma fix\n",
    "    #word_list = nltk.word_tokenize(word2)\n",
    "    #word2 = ' '.join([lemma.lemmatize(w) for w in word_list])\n",
    "    \n",
    "    #remove words that start with #\n",
    "    #word2 = [word for word in word2.split() if word[0]!='#' ]\n",
    "    #word2 = \" \".join(word2)\n",
    "   \n",
    "    # remove special chars\n",
    "    word2 = (re.sub(r'\\W+',' ', word2))\n",
    "\n",
    "    #remove stopwords\n",
    "    word2 = [word for word in word2.split() if word.lower() not in stopwords.words('english')]\n",
    "    word2 = \" \".join(word2)\n",
    "    \n",
    "    \n",
    "    \n",
    "    #remove xxxx string\n",
    "    word2 = [word for word in word2.split() if word[0]!='x' and word[len(word)-1]!='x' ]\n",
    "    word2 = \" \".join(word2)\n",
    "\n",
    "\n",
    "    #remove freq words\n",
    "    \n",
    "    #word2 =[word for word in word2.split() if word.lower() not in freq]\n",
    "    #word2 = ' '.join(word2)\n",
    "    \n",
    "    #remove rare words\n",
    "    word2 =[word for word in word2.split() if word.lower() not in rare]\n",
    "    word2 = ' '.join(word2)\n",
    "\n",
    "    #remove digits\n",
    "    word2 =re.sub(r\"\\d\", \"\", word2)\n",
    "    \n",
    "    #remove single words\n",
    "    word2 = re.sub(r'\\s+[a-zA-Z]\\s+',' ', word2)\n",
    "    \n",
    "    \n",
    "    \n",
    "    #remove extra whtespace\n",
    "    word2 = (re.sub(r'\\s+',' ', word2))\n",
    "\n",
    "    return word2\n"
   ]
  },
  {
   "cell_type": "code",
   "execution_count": 24,
   "metadata": {},
   "outputs": [],
   "source": [
    "train['original_text']=train['original_text'].apply(text_process)"
   ]
  },
  {
   "cell_type": "code",
   "execution_count": 25,
   "metadata": {},
   "outputs": [
    {
     "data": {
      "text/plain": [
       "0       happy mothersday amazing mothers know hard abl...\n",
       "1       happy mothers day mum sorry bring mothers day ...\n",
       "2       happy mothers day mothers days work today quie...\n",
       "3       happy mothers day beautiful woman royalty soot...\n",
       "4       remembering amazing ladies made late grandmoth...\n",
       "5       happy mother day bratz world familiez yasmin m...\n",
       "6       happy mother day wonderful mums mothersday cup...\n",
       "7       show mother two sexy rosie happy mothers day b...\n",
       "8       mothers grandmothers aunts sisters women lives...\n",
       "9       mothers around world gas health initiative wis...\n",
       "10      happy mothers day mothers around word mothersd...\n",
       "11      happy mothers day christine daily life full vi...\n",
       "12      happy mother day check latest blog http sallyc...\n",
       "13      happy mothers day everyone tuning th round gam...\n",
       "14      happy mother day got playdoh worm cake beloved...\n",
       "15      happy mothers day amazing mums keep awesome pr...\n",
       "16      poem written wife mother day happy mother day ...\n",
       "17      happy mothers day hope mums planning work arou...\n",
       "18      wishing mamas relaxing mothers day challenging...\n",
       "19      happy mothersday celebrating today favourite w...\n",
       "20      hands always lift fall person always supports ...\n",
       "21      happy mothers day strong adorable hilarious mu...\n",
       "22      happy mother day lisa chopdrog fantastic work ...\n",
       "23      happy mothers day beautiful hard working brill...\n",
       "24      today celebrate love pure inexhaustible uncond...\n",
       "25      happy birthday little cute cupcake bear grey p...\n",
       "26      happy mother day incredible mother happy mothe...\n",
       "27      happy mother day every woman trained encourage...\n",
       "28      could stopped happy mothers day left unless se...\n",
       "29      happy mothers day mums whos children today son...\n",
       "                              ...                        \n",
       "3205    mothers biggest inspiration influence thank ev...\n",
       "3206    happy mother day wonderful mums know might abl...\n",
       "3207    happy mothers day legend know everyone saying ...\n",
       "3208    good evening editor duchess sarah ferguson hap...\n",
       "3209    happy mothers day wonderful mums hope awesome ...\n",
       "3210    happy mother day womxn taking role people live...\n",
       "3211    happy mothers day mam mams particular mams nhs...\n",
       "3212    happy mothersday brilliant mum sjbiddulph pres...\n",
       "3213            happy mother day mothersday art artistson\n",
       "3214    thankful healthy happy joy bringers today also...\n",
       "3215    please push big centres like meadowhall close ...\n",
       "3216    happy mother day moms pet moms please stay saf...\n",
       "3217    happy mother day service users volunteers staf...\n",
       "3218    happy mother day everyone arrogantpixel sorry ...\n",
       "3219    happy mothers day amazing mums love happymothe...\n",
       "3220    happy mothers day mums aunts carers club thank...\n",
       "3221    happy mothering sunday celebrating love find h...\n",
       "3222    today seen family pulling car wind windows sho...\n",
       "3223    happy mothers day mothers grandmothers step mo...\n",
       "3224    happy mothers day mother rare gem sending much...\n",
       "3225    mother amazing loving strong happy selfless gr...\n",
       "3226    happy mothers day one yummy treat yummy mummie...\n",
       "3227    happy mothers day cheers woman gave wine nine ...\n",
       "3228    happy mother day special woman dear clients mo...\n",
       "3229                                                     \n",
       "3230    sisters sisters law also friends wishing happy...\n",
       "3231    happy mother day mums step mums aunties grandm...\n",
       "3232    happy mothers day craziest woman know thanks a...\n",
       "3233    happy mother day amazing wife love like crazy ...\n",
       "3234    wishing safe happy mothers day mothersday reed...\n",
       "Name: original_text, Length: 3235, dtype: object"
      ]
     },
     "execution_count": 25,
     "metadata": {},
     "output_type": "execute_result"
    }
   ],
   "source": [
    "train['original_text']"
   ]
  },
  {
   "cell_type": "markdown",
   "metadata": {},
   "source": [
    "# Train Data"
   ]
  },
  {
   "cell_type": "code",
   "execution_count": 26,
   "metadata": {},
   "outputs": [],
   "source": [
    "from sklearn.feature_extraction.text import CountVectorizer,TfidfVectorizer\n",
    "#cv = CountVectorizer()\n",
    "#tfidf = TfidfVectorizer()\n",
    "#vectorizer = cv.fit(train['original_text'])"
   ]
  },
  {
   "cell_type": "code",
   "execution_count": 27,
   "metadata": {},
   "outputs": [
    {
     "data": {
      "text/plain": [
       "TfidfVectorizer()"
      ]
     },
     "execution_count": 27,
     "metadata": {},
     "output_type": "execute_result"
    }
   ],
   "source": [
    "#train data\n",
    "vectorizer = TfidfVectorizer()\n",
    "# tokenize and build vocab\n",
    "vectorizer.fit(train['original_text'])\n",
    "# summarize\n",
    "#print(vectorizer.vocabulary_)\n",
    "#print(vectorizer.idf_)\n",
    "# encode document\n",
    "#vector = vectorizer.transform(train['original_text'])\n",
    "# summarize encoded vector\n",
    "#print(vector.shape)\n",
    "#print(vector.toarray())"
   ]
  },
  {
   "cell_type": "code",
   "execution_count": 28,
   "metadata": {},
   "outputs": [],
   "source": [
    "#train trst split\n",
    "X1=vectorizer.transform(train['original_text'])\n",
    "y=train['sentiment_class']\n",
    "X1_train, X1_test, y_train, y_test = train_test_split( X1, y, test_size=0.60, random_state=42)"
   ]
  },
  {
   "cell_type": "code",
   "execution_count": 29,
   "metadata": {},
   "outputs": [
    {
     "name": "stderr",
     "output_type": "stream",
     "text": [
      "C:\\Users\\Raghav\\Anaconda3\\lib\\site-packages\\sklearn\\linear_model\\_logistic.py:764: ConvergenceWarning: lbfgs failed to converge (status=1):\n",
      "STOP: TOTAL NO. of ITERATIONS REACHED LIMIT.\n",
      "\n",
      "Increase the number of iterations (max_iter) or scale the data as shown in:\n",
      "    https://scikit-learn.org/stable/modules/preprocessing.html\n",
      "Please also refer to the documentation for alternative solver options:\n",
      "    https://scikit-learn.org/stable/modules/linear_model.html#logistic-regression\n",
      "  extra_warning_msg=_LOGISTIC_SOLVER_CONVERGENCE_MSG)\n"
     ]
    },
    {
     "data": {
      "text/plain": [
       "LogisticRegression(C=10)"
      ]
     },
     "execution_count": 29,
     "metadata": {},
     "output_type": "execute_result"
    }
   ],
   "source": [
    "from sklearn.linear_model import LogisticRegression\n",
    "classifier2 = LogisticRegression(C=10)\n",
    "classifier2.fit(X1_train, y_train)"
   ]
  },
  {
   "cell_type": "code",
   "execution_count": 30,
   "metadata": {},
   "outputs": [
    {
     "name": "stdout",
     "output_type": "stream",
     "text": [
      "              precision    recall  f1-score   support\n",
      "\n",
      "          -1       0.28      0.11      0.16       470\n",
      "           0       0.52      0.80      0.63      1007\n",
      "           1       0.26      0.11      0.16       464\n",
      "\n",
      "    accuracy                           0.47      1941\n",
      "   macro avg       0.35      0.34      0.32      1941\n",
      "weighted avg       0.40      0.47      0.40      1941\n",
      "\n",
      "[[ 53 371  46]\n",
      " [ 95 807 105]\n",
      " [ 38 374  52]]\n",
      "0.46986089644513135\n"
     ]
    }
   ],
   "source": [
    "predict2 = classifier2.predict(X1_test)\n",
    "print(classification_report(y_test,predict2))\n",
    "print(confusion_matrix(y_test,predict2))\n",
    "print(accuracy_score(y_test,predict2))"
   ]
  },
  {
   "cell_type": "markdown",
   "metadata": {},
   "source": [
    "# Test Data"
   ]
  },
  {
   "cell_type": "code",
   "execution_count": 31,
   "metadata": {},
   "outputs": [],
   "source": [
    "test['original_text']=test['original_text'].apply(text_process)"
   ]
  },
  {
   "cell_type": "code",
   "execution_count": 32,
   "metadata": {},
   "outputs": [
    {
     "data": {
      "text/plain": [
       "0        yeah cooked potatoes years old mean threw bag...\n",
       "1       happy mother day mums step mums grandmothers d...\n",
       "2       love people uk however awoke saw mothersday tr...\n",
       "3       happy st birthday happy mother day mum see tod...\n",
       "4       happy mothers day wonderful mothers world live...\n",
       "5       happy mother day thanks support mother daughte...\n",
       "6       happy sunday ruth happy mothers day lovely pea...\n",
       "7       happy mothers day amazing mom care love childr...\n",
       "8       happy mothers day mum many could visit phone s...\n",
       "9       happy mothering sunday afternoon bed new book ...\n",
       "10      happy mothers day mums step mums foster mums c...\n",
       "11      happy mother day another mother still referrin...\n",
       "12      happy mothers day fantastic garden plant blue ...\n",
       "13      momma passed years ago terrible cancer mothers...\n",
       "14      happy mothers day even remain heart forever lo...\n",
       "15      happy mothersday mary yes call first name than...\n",
       "16      mothers stepmothers grandmothers great grandmo...\n",
       "17      today celebrate amazing women know mothers can...\n",
       "18      meme never thank bringing us world done countl...\n",
       "19      happy mother day beautiful lady awesome mammy ...\n",
       "20      five year old made cut wood everything dt prim...\n",
       "21      happy mothersday people care us help us grow a...\n",
       "22      happy mothers day blues mother native person e...\n",
       "23      mothers day little different year still celebr...\n",
       "24      happy mothersday every mothers around globe ap...\n",
       "25      happy mothers day rare gem like prayers words ...\n",
       "26      happy mothersday mums feted today jean jacques...\n",
       "27      children got say happy mothers day grandmother...\n",
       "28      happy mothers day special mothers grandmothers...\n",
       "29      theif boy calls usa say happy mothers day boss...\n",
       "                              ...                        \n",
       "1357    happy mothers day shout mums home kids right g...\n",
       "1358    happy mothers day amazing mams grannies aunts ...\n",
       "1359    four cats two pom poms one snowman sunday self...\n",
       "1360    look love happy mother day wonderful woman wor...\n",
       "1361    also happy mothers day celebrate thoughts hope...\n",
       "1362    question favourite child happy mothers day mam...\n",
       "1363    massive extra special happy mothers day know s...\n",
       "1364    happy mother day mothersday caudalie happymoth...\n",
       "1365    mothers day thing confusing many year told mom...\n",
       "1366    another three wreaths made delivered happy cus...\n",
       "1367    happy mother day year mother day bit different...\n",
       "1368    happy mothers day mums around world heavens af...\n",
       "1369    heart happy mother day thank everyone lovely m...\n",
       "1370    happy mothersday amazing mothers give much fee...\n",
       "1371    happy mothers day mammy heaven especially luna...\n",
       "1372    maisie_williams hi happy mothers day maisie ba...\n",
       "1373    happy mother day wonderful mam plans spend day...\n",
       "1374    happy birthday bear happy mothers day cheryl k...\n",
       "1375    happy mother day awesome swim mums mothersday ...\n",
       "1376    imagine disgusting happy mothers day people id...\n",
       "1377    last definitely least happy mothers day nan lo...\n",
       "1378    job job girl good ya self employed builder lai...\n",
       "1379    let checkmate travelers way spreading let stat...\n",
       "1380    sorry experience margaret green eyed monster t...\n",
       "1381    wishing mums happy safe mother day may one lik...\n",
       "1382    happy mother day crazy bitch sorry covid blood...\n",
       "1383    mum get bingo brought bingo top prizes include...\n",
       "1384    despite bullshit today one favourite days lonn...\n",
       "1385    happy mothers day firstly queen daniele_sulliv...\n",
       "1386    mothers day walk live tiny village rural linco...\n",
       "Name: original_text, Length: 1387, dtype: object"
      ]
     },
     "execution_count": 32,
     "metadata": {},
     "output_type": "execute_result"
    }
   ],
   "source": [
    "test['original_text']"
   ]
  },
  {
   "cell_type": "code",
   "execution_count": 33,
   "metadata": {},
   "outputs": [],
   "source": [
    "processed_test = vectorizer.transform(test['original_text'])"
   ]
  },
  {
   "cell_type": "code",
   "execution_count": 34,
   "metadata": {},
   "outputs": [],
   "source": [
    "final = classifier2.predict(processed_test)"
   ]
  },
  {
   "cell_type": "code",
   "execution_count": 35,
   "metadata": {},
   "outputs": [],
   "source": [
    "submission = pd.DataFrame({'id':test['id'],'sentiment_class':final})"
   ]
  },
  {
   "cell_type": "code",
   "execution_count": 36,
   "metadata": {},
   "outputs": [
    {
     "data": {
      "text/plain": [
       "<matplotlib.axes._subplots.AxesSubplot at 0x1eca938e7f0>"
      ]
     },
     "execution_count": 36,
     "metadata": {},
     "output_type": "execute_result"
    },
    {
     "data": {
      "image/png": "[encoded data removed]",
      "text/plain": [
       "<Figure size 432x288 with 1 Axes>"
      ]
     },
     "metadata": {
      "needs_background": "light"
     },
     "output_type": "display_data"
    }
   ],
   "source": [
    "sns.countplot(submission['sentiment_class'])"
   ]
  },
  {
   "cell_type": "code",
   "execution_count": 37,
   "metadata": {},
   "outputs": [
    {
     "name": "stdout",
     "output_type": "stream",
     "text": [
      "Saved file: submission1.csv\n"
     ]
    }
   ],
   "source": [
    "filename = 'submission1.csv'\n",
    "\n",
    "submission.to_csv(filename,index=False)\n",
    "\n",
    "print('Saved file: ' + filename)"
   ]
  },
  {
   "cell_type": "code",
   "execution_count": null,
   "metadata": {},
   "outputs": [],
   "source": []
  }
 ],
 "metadata": {
  "kernelspec": {
   "display_name": "Python 3",
   "language": "python",
   "name": "python3"
  },
  "language_info": {
   "codemirror_mode": {
    "name": "ipython",
    "version": 3
   },
   "file_extension": ".py",
   "mimetype": "text/x-python",
   "name": "python",
   "nbconvert_exporter": "python",
   "pygments_lexer": "ipython3",
   "version": "3.7.3"
  }
 },
 "nbformat": 4,
 "nbformat_minor": 2
}
